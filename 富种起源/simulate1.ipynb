{
 "cells": [
  {
   "cell_type": "code",
   "execution_count": null,
   "metadata": {},
   "outputs": [],
   "source": [
    "import pandas as pd\n",
    "import numpy as np\n",
    "import random\n",
    "from tqdm import tqdm\n",
    "# N = 400\n",
    "# F = M*E - M为适应度， E 为经济规模\n",
    "# 斯巴达 M=1 雅典制 M=0.8\n",
    "# E 斯巴达每期增长0 雅典制 每期增长2%\n",
    "# 每一期 有千分之一的概率自发突变到另一种制度\n",
    "# 随机选取u*N个地区 称作竞择力度系数，N是地区的总数。\n",
    "# p = F_plus / (F + F_plus)\n",
    "# 按照 p概率进行变异（前提是制度不一样）\n",
    "\n",
    "def init_df(pct_ones = 0.05):\n",
    "    # Set the size of the DataFrame\n",
    "    n_rows = 20\n",
    "    n_cols = 20\n",
    "    # Set the percentage of values to be set to 1\n",
    "    arr_m = np.random.choice([1, 0.8], size=(n_rows, n_cols), p=[1-pct_ones, pct_ones])\n",
    "    return arr_m, np.ones((n_rows,n_cols))\n",
    "\n",
    "def get_new_rc(r, c, M):\n",
    "    arr_choice = np.array([[1,0],[-1,0],[0,1],[0,-1]])\n",
    "    row = np.random.choice(arr_choice.shape[0])\n",
    "    v = arr_choice[row].tolist()\n",
    "    rr, cc = v[0], v[1]\n",
    "    new_r = r + rr\n",
    "    if new_r == M.shape[0]:\n",
    "        new_r = 0\n",
    "    new_c = c + cc\n",
    "    if new_c == M.shape[1]:\n",
    "        new_c = 0\n",
    "    return new_r, new_c\n",
    "\n",
    "def iter_df(M, E,u = 0.75):\n",
    "    # 雅典制地区每年增长2%，斯巴达地区每年增长0%\n",
    "    E[np.where(M == 0.8)] *= 1.02\n",
    "    # 每个制度都有概率自发突变到另一个制度\n",
    "    pct_add = 0.001\n",
    "    add_arr = np.random.choice([0, 1], size=M.shape, p=[1-pct_add, pct_add])\n",
    "    idx = np.where(add_arr == 1)\n",
    "\n",
    "    for r, c in zip(*idx):\n",
    "        if M[r,c] == 1:\n",
    "            M[r,c] = 0.8\n",
    "        else:\n",
    "            M[r,c] = 1\n",
    "            \n",
    "    # u*N个地区，每个地区随机挑选它4个相邻地区的一个，让前者以概率用后者的制度\n",
    "     # 竞争比率（描述竞争的强度）\n",
    "    idx_u = np.where(np.random.choice([0, 1], size=M.shape, p=[1-u, u]) == 1)\n",
    "    M_cp = M.copy()\n",
    "    for r, c in zip(*idx_u): # 遍历每个u*N地区\n",
    "        new_r, new_c = get_new_rc(r, c, M)\n",
    "        F = M_cp[r, c] * E[r, c]\n",
    "        F_plus = M_cp[new_r, new_c] * E[new_r, new_c]\n",
    "        p = F_plus / (F + F_plus)\n",
    "        # 如果两个制度一样，那么什么变化都不发生\n",
    "        # 如果两个制度不一样，他们会按照这个概率发生制度传染\n",
    "        if M[r,c] != M_cp[new_r, new_c]:\n",
    "            if random.random() < p:\n",
    "                M[r,c] = M_cp[new_r, new_c]\n",
    "    lenth_increase = np.where(M == 0.8)[0].shape[0]\n",
    "    print(lenth_increase)\n",
    "    return M, E, lenth_increase\n",
    "\n",
    "M , E = init_df()\n",
    "se1 = {}\n",
    "\n",
    "for i in tqdm(range(10000)):\n",
    "    M, E, L = iter_df(M, E, u=0.2)\n",
    "    se1[i] = L\n",
    "M , E = init_df()\n",
    "se2 = {}\n",
    "\n",
    "for i in tqdm(range(10000)):\n",
    "    M, E, L = iter_df(M, E, u=0.9)\n",
    "    se2[i] = L\n",
    "s1 = pd.Series(se1, name=\"u=0.2\")\n",
    "s2 = pd.Series(se2, name=\"u=0.9\")\n",
    "df = pd.concat([s1,s2], axis=1)\n"
   ]
  },
  {
   "cell_type": "code",
   "execution_count": 10,
   "metadata": {},
   "outputs": [
    {
     "ename": "ValueError",
     "evalue": "a must be 1-dimensional",
     "output_type": "error",
     "traceback": [
      "\u001b[0;31m---------------------------------------------------------------------------\u001b[0m",
      "\u001b[0;31mValueError\u001b[0m                                Traceback (most recent call last)",
      "\u001b[0;32m/tmp/ipykernel_26600/3689596356.py\u001b[0m in \u001b[0;36m<module>\u001b[0;34m\u001b[0m\n\u001b[1;32m     19\u001b[0m     \u001b[0mp\u001b[0m \u001b[0;34m+=\u001b[0m \u001b[0mright\u001b[0m \u001b[0;34m/\u001b[0m \u001b[0;34m(\u001b[0m\u001b[0mright\u001b[0m \u001b[0;34m+\u001b[0m \u001b[0mgrid\u001b[0m\u001b[0;34m)\u001b[0m\u001b[0;34m\u001b[0m\u001b[0;34m\u001b[0m\u001b[0m\n\u001b[1;32m     20\u001b[0m     \u001b[0mp\u001b[0m \u001b[0;34m=\u001b[0m \u001b[0mp\u001b[0m\u001b[0;34m.\u001b[0m\u001b[0mflatten\u001b[0m\u001b[0;34m(\u001b[0m\u001b[0;34m)\u001b[0m\u001b[0;34m\u001b[0m\u001b[0;34m\u001b[0m\u001b[0m\n\u001b[0;32m---> 21\u001b[0;31m     \u001b[0mnew_grid\u001b[0m \u001b[0;34m=\u001b[0m \u001b[0mnp\u001b[0m\u001b[0;34m.\u001b[0m\u001b[0mrandom\u001b[0m\u001b[0;34m.\u001b[0m\u001b[0mchoice\u001b[0m\u001b[0;34m(\u001b[0m\u001b[0;34m[\u001b[0m\u001b[0mup\u001b[0m\u001b[0;34m,\u001b[0m \u001b[0mdown\u001b[0m\u001b[0;34m,\u001b[0m \u001b[0mleft\u001b[0m\u001b[0;34m,\u001b[0m \u001b[0mright\u001b[0m\u001b[0;34m]\u001b[0m\u001b[0;34m,\u001b[0m \u001b[0mp\u001b[0m\u001b[0;34m=\u001b[0m\u001b[0mp\u001b[0m\u001b[0;34m/\u001b[0m\u001b[0mp\u001b[0m\u001b[0;34m.\u001b[0m\u001b[0msum\u001b[0m\u001b[0;34m(\u001b[0m\u001b[0maxis\u001b[0m\u001b[0;34m=\u001b[0m\u001b[0;36m0\u001b[0m\u001b[0;34m)\u001b[0m\u001b[0;34m)\u001b[0m\u001b[0;34m\u001b[0m\u001b[0;34m\u001b[0m\u001b[0m\n\u001b[0m\u001b[1;32m     22\u001b[0m \u001b[0;34m\u001b[0m\u001b[0m\n\u001b[1;32m     23\u001b[0m     \u001b[0;31m# 处理边界\u001b[0m\u001b[0;34m\u001b[0m\u001b[0;34m\u001b[0m\u001b[0;34m\u001b[0m\u001b[0m\n",
      "\u001b[0;32mmtrand.pyx\u001b[0m in \u001b[0;36mnumpy.random.mtrand.RandomState.choice\u001b[0;34m()\u001b[0m\n",
      "\u001b[0;31mValueError\u001b[0m: a must be 1-dimensional"
     ]
    }
   ],
   "source": [
    "import numpy as np\n",
    "import matplotlib.pyplot as plt\n",
    "\n",
    "# 初始化200*200随机数组\n",
    "grid = np.random.rand(200, 200)  \n",
    "# 同上代码初始化grid\n",
    "\n",
    "for i in range(20):\n",
    "\n",
    "  # 计算概率矩阵\n",
    "    up = np.roll(grid, -1, axis=0)\n",
    "    down = np.roll(grid, 1, axis=0) \n",
    "    left = np.roll(grid, -1, axis=1)\n",
    "    right = np.roll(grid, 1, axis=1)\n",
    "\n",
    "    p = up / (up + grid)\n",
    "    p += down / (down + grid)\n",
    "    p += left / (left + grid)\n",
    "    p += right / (right + grid)\n",
    "    p = p.flatten() \n",
    "    new_grid = np.random.choice([up, down, left, right], p=p/p.sum(axis=0))\n",
    "    \n",
    "    # 处理边界\n",
    "    new_grid[0,:] = grid[0,:]   \n",
    "    new_grid[-1,:] = grid[-1,:]\n",
    "    new_grid[:,0] = grid[:,0]\n",
    "    new_grid[:,-1] = grid[:,-1]\n",
    "\n",
    "    grid = new_grid\n",
    "\n",
    "  # 画图\n",
    "    plt.imshow(grid)\n",
    "    plt.show()"
   ]
  },
  {
   "cell_type": "code",
   "execution_count": 14,
   "metadata": {},
   "outputs": [
    {
     "ename": "ValueError",
     "evalue": "'a' and 'p' must have same size",
     "output_type": "error",
     "traceback": [
      "\u001b[0;31m---------------------------------------------------------------------------\u001b[0m",
      "\u001b[0;31mValueError\u001b[0m                                Traceback (most recent call last)",
      "\u001b[0;32m/tmp/ipykernel_26600/3487952609.py\u001b[0m in \u001b[0;36m<module>\u001b[0;34m\u001b[0m\n\u001b[1;32m     21\u001b[0m \u001b[0;34m\u001b[0m\u001b[0m\n\u001b[1;32m     22\u001b[0m \u001b[0mshape\u001b[0m \u001b[0;34m=\u001b[0m \u001b[0;34m(\u001b[0m\u001b[0mgrid\u001b[0m\u001b[0;34m.\u001b[0m\u001b[0mshape\u001b[0m\u001b[0;34m[\u001b[0m\u001b[0;36m0\u001b[0m\u001b[0;34m]\u001b[0m\u001b[0;34m,\u001b[0m \u001b[0mgrid\u001b[0m\u001b[0;34m.\u001b[0m\u001b[0mshape\u001b[0m\u001b[0;34m[\u001b[0m\u001b[0;36m1\u001b[0m\u001b[0;34m]\u001b[0m\u001b[0;34m)\u001b[0m\u001b[0;34m\u001b[0m\u001b[0;34m\u001b[0m\u001b[0m\n\u001b[0;32m---> 23\u001b[0;31m \u001b[0mnew_grid\u001b[0m \u001b[0;34m=\u001b[0m \u001b[0mnp\u001b[0m\u001b[0;34m.\u001b[0m\u001b[0mrandom\u001b[0m\u001b[0;34m.\u001b[0m\u001b[0mchoice\u001b[0m\u001b[0;34m(\u001b[0m\u001b[0;36m4\u001b[0m\u001b[0;34m,\u001b[0m \u001b[0mp\u001b[0m\u001b[0;34m=\u001b[0m\u001b[0mp\u001b[0m\u001b[0;34m/\u001b[0m\u001b[0mp\u001b[0m\u001b[0;34m.\u001b[0m\u001b[0msum\u001b[0m\u001b[0;34m(\u001b[0m\u001b[0;34m)\u001b[0m\u001b[0;34m,\u001b[0m \u001b[0msize\u001b[0m\u001b[0;34m=\u001b[0m\u001b[0mshape\u001b[0m\u001b[0;34m)\u001b[0m\u001b[0;34m\u001b[0m\u001b[0;34m\u001b[0m\u001b[0m\n\u001b[0m\u001b[1;32m     24\u001b[0m \u001b[0mnew_grid\u001b[0m \u001b[0;34m=\u001b[0m \u001b[0mnp\u001b[0m\u001b[0;34m.\u001b[0m\u001b[0mwhere\u001b[0m\u001b[0;34m(\u001b[0m\u001b[0mnew_grid\u001b[0m\u001b[0;34m==\u001b[0m\u001b[0;36m0\u001b[0m\u001b[0;34m,\u001b[0m \u001b[0mup\u001b[0m\u001b[0;34m,\u001b[0m \u001b[0mnew_grid\u001b[0m\u001b[0;34m)\u001b[0m\u001b[0;34m\u001b[0m\u001b[0;34m\u001b[0m\u001b[0m\n\u001b[1;32m     25\u001b[0m \u001b[0mnew_grid\u001b[0m \u001b[0;34m=\u001b[0m \u001b[0mnp\u001b[0m\u001b[0;34m.\u001b[0m\u001b[0mwhere\u001b[0m\u001b[0;34m(\u001b[0m\u001b[0mnew_grid\u001b[0m\u001b[0;34m==\u001b[0m\u001b[0;36m1\u001b[0m\u001b[0;34m,\u001b[0m \u001b[0mdown\u001b[0m\u001b[0;34m,\u001b[0m \u001b[0mnew_grid\u001b[0m\u001b[0;34m)\u001b[0m\u001b[0;34m\u001b[0m\u001b[0;34m\u001b[0m\u001b[0m\n",
      "\u001b[0;32mmtrand.pyx\u001b[0m in \u001b[0;36mnumpy.random.mtrand.RandomState.choice\u001b[0;34m()\u001b[0m\n",
      "\u001b[0;31mValueError\u001b[0m: 'a' and 'p' must have same size"
     ]
    }
   ],
   "source": [
    "import numpy as np\n",
    "\n",
    "# 初始化200*200随机数组\n",
    "grid = np.random.rand(200, 200)  \n",
    "\n",
    "# 计算概率矩阵 \n",
    "up = np.roll(grid, -1, axis=0)  \n",
    "down = np.roll(grid, 1, axis=0)\n",
    "left = np.roll(grid, -1, axis=1) \n",
    "right = np.roll(grid, 1, axis=1)\n",
    "\n",
    "p = up / (up + grid)\n",
    "p += down / (down + grid)\n",
    "p += left / (left + grid)\n",
    "p += right / (right + grid)\n",
    "p = grid / (up + grid + down + grid + left + grid + right) \n",
    "p = p.flatten()\n",
    "# 用probability矩阵按概率替换中心点\n",
    "p = grid / (up + grid + down + grid + left + grid + right)\n",
    "p = p.flatten() \n",
    "\n",
    "shape = (grid.shape[0], grid.shape[1])\n",
    "new_grid = np.random.choice(4, p=p/p.sum(), size=shape)\n",
    "new_grid = np.where(new_grid==0, up, new_grid) \n",
    "new_grid = np.where(new_grid==1, down, new_grid)\n",
    "new_grid = np.where(new_grid==2, left, new_grid)  \n",
    "new_grid = np.where(new_grid==3, right, new_grid)\n",
    "\n",
    "# 处理边界 \n",
    "new_grid[0,:] = grid[0,:]  \n",
    "new_grid[-1,:] = grid[-1,:]\n",
    "new_grid[:,0] = grid[:,0]\n",
    "new_grid[:,-1] = grid[:,-1]\n",
    "\n",
    "grid = new_grid"
   ]
  },
  {
   "cell_type": "code",
   "execution_count": 13,
   "metadata": {},
   "outputs": [
    {
     "data": {
      "text/plain": [
       "array([0.07957899, 0.17008035, 0.16957645, ..., 0.01682886, 0.09982284,\n",
       "       0.04275356])"
      ]
     },
     "execution_count": 13,
     "metadata": {},
     "output_type": "execute_result"
    }
   ],
   "source": [
    "p"
   ]
  }
 ],
 "metadata": {
  "kernelspec": {
   "display_name": "pytorch_gpu",
   "language": "python",
   "name": "python3"
  },
  "language_info": {
   "codemirror_mode": {
    "name": "ipython",
    "version": 3
   },
   "file_extension": ".py",
   "mimetype": "text/x-python",
   "name": "python",
   "nbconvert_exporter": "python",
   "pygments_lexer": "ipython3",
   "version": "3.7.5"
  },
  "orig_nbformat": 4
 },
 "nbformat": 4,
 "nbformat_minor": 2
}
